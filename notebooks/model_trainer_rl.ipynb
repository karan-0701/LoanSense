{
 "cells": [
  {
   "cell_type": "markdown",
   "metadata": {},
   "source": [
    "# Offline RL Agent for Loan Approval (Q-Learning Style)\n",
    "\n",
    "This notebook implements an offline reinforcement learning agent using Q-learning to learn an optimal loan approval policy. The agent learns to maximize expected profit by approving loans that are likely to be repaid and denying those that may default."
   ]
  },
  {
   "cell_type": "markdown",
   "metadata": {},
   "source": [
    "## 1. Import Libraries"
   ]
  },
  {
   "cell_type": "code",
   "execution_count": 1,
   "metadata": {},
   "outputs": [
    {
     "name": "stdout",
     "output_type": "stream",
     "text": [
      "PyTorch version: 2.3.0\n",
      "Device: cpu\n"
     ]
    }
   ],
   "source": [
    "import pandas as pd\n",
    "import numpy as np\n",
    "import torch\n",
    "from torch import nn\n",
    "from torch.utils.data import DataLoader, TensorDataset\n",
    "from sklearn.model_selection import train_test_split\n",
    "from sklearn.preprocessing import StandardScaler, OneHotEncoder, LabelEncoder\n",
    "from tqdm import tqdm\n",
    "\n",
    "print(f\"PyTorch version: {torch.__version__}\")\n",
    "print(f\"Device: {'cuda' if torch.cuda.is_available() else 'cpu'}\")"
   ]
  },
  {
   "cell_type": "markdown",
   "metadata": {},
   "source": [
    "## 2. Load and Sample Data\n",
    "\n",
    "Load the preprocessed loan data and sample 100,000 records for training."
   ]
  },
  {
   "cell_type": "code",
   "execution_count": 2,
   "metadata": {},
   "outputs": [
    {
     "name": "stdout",
     "output_type": "stream",
     "text": [
      "Sample shape: (100000, 90)\n",
      "\n",
      "Target distribution:\n",
      "loan_status\n",
      "Fully Paid    79810\n",
      "Default       20190\n",
      "Name: count, dtype: int64\n"
     ]
    }
   ],
   "source": [
    "# Assume df is your full dataset already loaded\n",
    "df = pd.read_csv('../data/processed/processed_sample.csv')\n",
    "\n",
    "target_col = 'loan_status'\n",
    "df_sample = df.sample(n=100_000, random_state=42)\n",
    "\n",
    "print(f\"Sample shape: {df_sample.shape}\")\n",
    "print(f\"\\nTarget distribution:\")\n",
    "print(df_sample[target_col].value_counts())"
   ]
  },
  {
   "cell_type": "markdown",
   "metadata": {},
   "source": [
    "## 3. Separate Features and Target"
   ]
  },
  {
   "cell_type": "code",
   "execution_count": 3,
   "metadata": {},
   "outputs": [
    {
     "name": "stdout",
     "output_type": "stream",
     "text": [
      "Number of categorical columns: 32\n",
      "Number of numeric columns: 57\n",
      "\n",
      "Categorical columns: ['term', 'grade', 'sub_grade', 'emp_length', 'home_ownership', 'verification_status', 'purpose', 'inq_last_6mths', 'pub_rec', 'initial_list_status', 'out_prncp', 'collections_12_mths_ex_med', 'application_type', 'acc_now_delinq', 'open_acc_6m', 'open_il_12m', 'open_rv_12m', 'chargeoff_within_12_mths', 'num_tl_120dpd_2m', 'num_tl_30dpd', 'num_tl_90g_dpd_24m', 'pub_rec_bankruptcies', 'tax_liens', 'disbursement_method', 'debt_settlement_flag', 'issue_d_year', 'issue_d_month', 'earliest_cr_line_month', 'last_pymnt_d_year', 'last_pymnt_d_month', 'last_credit_pull_d_year', 'last_credit_pull_d_month']\n"
     ]
    }
   ],
   "source": [
    "X = df_sample.drop(columns=[target_col])\n",
    "y = df_sample[target_col].values\n",
    "\n",
    "# Identify categorical and numeric columns\n",
    "categorical_cols = [col for col in X.columns if X[col].nunique() <= 20]\n",
    "numeric_cols = [col for col in X.columns if col not in categorical_cols]\n",
    "\n",
    "print(f\"Number of categorical columns: {len(categorical_cols)}\")\n",
    "print(f\"Number of numeric columns: {len(numeric_cols)}\")\n",
    "print(f\"\\nCategorical columns: {categorical_cols}\")"
   ]
  },
  {
   "cell_type": "markdown",
   "metadata": {},
   "source": [
    "## 4. Handle Missing Values"
   ]
  },
  {
   "cell_type": "code",
   "execution_count": 4,
   "metadata": {},
   "outputs": [
    {
     "name": "stdout",
     "output_type": "stream",
     "text": [
      "Missing values after handling: 0\n"
     ]
    }
   ],
   "source": [
    "# Handle NaN values\n",
    "X[numeric_cols] = X[numeric_cols].fillna(X[numeric_cols].median())\n",
    "X[categorical_cols] = X[categorical_cols].fillna(\"Unknown\")\n",
    "\n",
    "print(f\"Missing values after handling: {X.isnull().sum().sum()}\")"
   ]
  },
  {
   "cell_type": "markdown",
   "metadata": {},
   "source": [
    "## 5. Preprocessing: Scaling and Encoding\n",
    "\n",
    "- **Numeric features**: Standardized using StandardScaler\n",
    "- **Categorical features**: One-hot encoded\n",
    "- **Target**: Label encoded (Fully Paid=1, Default=0)"
   ]
  },
  {
   "cell_type": "code",
   "execution_count": 5,
   "metadata": {},
   "outputs": [
    {
     "name": "stdout",
     "output_type": "stream",
     "text": [
      "Processed feature shape: (100000, 339)\n"
     ]
    }
   ],
   "source": [
    "# Scale numeric features\n",
    "scaler = StandardScaler()\n",
    "X_numeric = scaler.fit_transform(X[numeric_cols])\n",
    "\n",
    "# One-hot encode categorical features\n",
    "ohe = OneHotEncoder(sparse_output=False, handle_unknown='ignore')\n",
    "X_categorical = ohe.fit_transform(X[categorical_cols])\n",
    "\n",
    "# Combine numeric and categorical features\n",
    "X_processed = np.hstack([X_numeric, X_categorical])\n",
    "\n",
    "print(f\"Processed feature shape: {X_processed.shape}\")"
   ]
  },
  {
   "cell_type": "code",
   "execution_count": 6,
   "metadata": {},
   "outputs": [
    {
     "name": "stdout",
     "output_type": "stream",
     "text": [
      "Target classes: ['Default' 'Fully Paid']\n",
      "Encoded target distribution: [20190 79810]\n"
     ]
    }
   ],
   "source": [
    "# Encode target: Fully Paid=1, Default=0\n",
    "le = LabelEncoder()\n",
    "y_encoded = le.fit_transform(y)\n",
    "y_tensor = torch.tensor(y_encoded, dtype=torch.float32)\n",
    "\n",
    "print(f\"Target classes: {le.classes_}\")\n",
    "print(f\"Encoded target distribution: {np.bincount(y_encoded)}\")"
   ]
  },
  {
   "cell_type": "markdown",
   "metadata": {},
   "source": [
    "## 6. Extract Loan Amount and Interest Rate for Reward Calculation"
   ]
  },
  {
   "cell_type": "code",
   "execution_count": 7,
   "metadata": {},
   "outputs": [
    {
     "name": "stdout",
     "output_type": "stream",
     "text": [
      "Loan amount range: $1000.00 - $40000.00\n",
      "Interest rate range: 5.31% - 30.99%\n"
     ]
    }
   ],
   "source": [
    "# Include loan amount & interest rate (for reward computation)\n",
    "loan_amnt = torch.tensor(X[\"loan_amnt\"].values, dtype=torch.float32)\n",
    "int_rate = torch.tensor(X[\"int_rate\"].values, dtype=torch.float32)\n",
    "\n",
    "print(f\"Loan amount range: ${loan_amnt.min():.2f} - ${loan_amnt.max():.2f}\")\n",
    "print(f\"Interest rate range: {int_rate.min():.2f}% - {int_rate.max():.2f}%\")"
   ]
  },
  {
   "cell_type": "markdown",
   "metadata": {},
   "source": [
    "## 7. Train-Test Split"
   ]
  },
  {
   "cell_type": "code",
   "execution_count": 8,
   "metadata": {},
   "outputs": [
    {
     "name": "stdout",
     "output_type": "stream",
     "text": [
      "Training set size: 80000\n",
      "Test set size: 20000\n"
     ]
    }
   ],
   "source": [
    "X_train, X_test, y_train, y_test, loan_train, loan_test, rate_train, rate_test = train_test_split(\n",
    "    X_processed, y_tensor, loan_amnt, int_rate, test_size=0.2, random_state=42\n",
    ")\n",
    "\n",
    "# Convert to PyTorch tensors\n",
    "X_train = torch.tensor(X_train, dtype=torch.float32)\n",
    "X_test = torch.tensor(X_test, dtype=torch.float32)\n",
    "loan_train = loan_train.reshape(-1, 1)\n",
    "rate_train = rate_train.reshape(-1, 1)\n",
    "\n",
    "print(f\"Training set size: {X_train.shape[0]}\")\n",
    "print(f\"Test set size: {X_test.shape[0]}\")"
   ]
  },
  {
   "cell_type": "markdown",
   "metadata": {},
   "source": [
    "## 8. Create DataLoader"
   ]
  },
  {
   "cell_type": "code",
   "execution_count": 9,
   "metadata": {},
   "outputs": [
    {
     "name": "stdout",
     "output_type": "stream",
     "text": [
      "Number of batches: 313\n"
     ]
    }
   ],
   "source": [
    "train_dataset = TensorDataset(X_train, y_train, loan_train, rate_train)\n",
    "train_loader = DataLoader(train_dataset, batch_size=256, shuffle=True)\n",
    "\n",
    "print(f\"Number of batches: {len(train_loader)}\")"
   ]
  },
  {
   "cell_type": "markdown",
   "metadata": {},
   "source": [
    "## 9. Define Q-Network Architecture\n",
    "\n",
    "The Q-network takes the loan application features as input and outputs Q-values for two actions:\n",
    "- **Action 0**: Deny the loan\n",
    "- **Action 1**: Approve the loan"
   ]
  },
  {
   "cell_type": "code",
   "execution_count": 10,
   "metadata": {},
   "outputs": [
    {
     "name": "stdout",
     "output_type": "stream",
     "text": [
      "\n",
      "Model architecture:\n",
      "QNetwork(\n",
      "  (model): Sequential(\n",
      "    (0): Linear(in_features=339, out_features=128, bias=True)\n",
      "    (1): ReLU()\n",
      "    (2): Linear(in_features=128, out_features=64, bias=True)\n",
      "    (3): ReLU()\n",
      "    (4): Linear(in_features=64, out_features=2, bias=True)\n",
      "  )\n",
      ")\n",
      "\n",
      "Total parameters: 51906\n"
     ]
    }
   ],
   "source": [
    "class QNetwork(nn.Module):\n",
    "    def __init__(self, input_dim):\n",
    "        super(QNetwork, self).__init__()\n",
    "        self.model = nn.Sequential(\n",
    "            nn.Linear(input_dim, 128),\n",
    "            nn.ReLU(),\n",
    "            nn.Linear(128, 64),\n",
    "            nn.ReLU(),\n",
    "            nn.Linear(64, 2)  # 2 actions: 0 = Deny, 1 = Approve\n",
    "        )\n",
    "\n",
    "    def forward(self, x):\n",
    "        return self.model(x)\n",
    "\n",
    "model = QNetwork(X_train.shape[1])\n",
    "print(f\"\\nModel architecture:\")\n",
    "print(model)\n",
    "print(f\"\\nTotal parameters: {sum(p.numel() for p in model.parameters())}\")"
   ]
  },
  {
   "cell_type": "markdown",
   "metadata": {},
   "source": [
    "## 10. Define Optimizer and Loss Function"
   ]
  },
  {
   "cell_type": "code",
   "execution_count": 11,
   "metadata": {},
   "outputs": [
    {
     "name": "stdout",
     "output_type": "stream",
     "text": [
      "Optimizer: Adam\n",
      "Learning rate: 0.001\n",
      "Loss function: MSE\n"
     ]
    }
   ],
   "source": [
    "optimizer = torch.optim.Adam(model.parameters(), lr=0.001)\n",
    "criterion = nn.MSELoss()\n",
    "\n",
    "print(\"Optimizer: Adam\")\n",
    "print(f\"Learning rate: 0.001\")\n",
    "print(f\"Loss function: MSE\")"
   ]
  },
  {
   "cell_type": "markdown",
   "metadata": {},
   "source": [
    "## 11. Define Reward Function\n",
    "\n",
    "The reward function implements the business logic:\n",
    "- **Approve + Fully Paid**: Reward = loan_amount × interest_rate (profit)\n",
    "- **Approve + Default**: Reward = -loan_amount (loss)\n",
    "- **Deny**: Reward = 0 (no gain, no loss)"
   ]
  },
  {
   "cell_type": "code",
   "execution_count": 12,
   "metadata": {},
   "outputs": [
    {
     "name": "stdout",
     "output_type": "stream",
     "text": [
      "Reward function defined successfully!\n"
     ]
    }
   ],
   "source": [
    "def compute_reward(action, loan_status, loan_amt, int_rate):\n",
    "    \"\"\"\n",
    "    Compute rewards based on action and outcome.\n",
    "    \n",
    "    Args:\n",
    "        action: 0 (deny) or 1 (approve)\n",
    "        loan_status: 0 (default) or 1 (fully paid)\n",
    "        loan_amt: loan amount\n",
    "        int_rate: interest rate\n",
    "    \n",
    "    Returns:\n",
    "        reward: calculated reward\n",
    "    \"\"\"\n",
    "    reward = torch.zeros_like(action, dtype=torch.float32)\n",
    "\n",
    "    approve_mask = (action == 1)\n",
    "    fully_paid_mask = (loan_status == 1)\n",
    "    defaulted_mask = (loan_status == 0)\n",
    "\n",
    "    # Intersection masks\n",
    "    approve_fully_paid = approve_mask & fully_paid_mask\n",
    "    approve_defaulted = approve_mask & defaulted_mask\n",
    "\n",
    "    # Assign rewards\n",
    "    reward[approve_fully_paid] = loan_amt[approve_fully_paid] * int_rate[approve_fully_paid]\n",
    "    reward[approve_defaulted] = -loan_amt[approve_defaulted]\n",
    "\n",
    "    return reward\n",
    "\n",
    "print(\"Reward function defined successfully!\")"
   ]
  },
  {
   "cell_type": "markdown",
   "metadata": {},
   "source": [
    "## 12. Training Loop (Offline Q-Learning)\n",
    "\n",
    "Train the Q-network using offline Q-learning with exploratory actions."
   ]
  },
  {
   "cell_type": "code",
   "execution_count": 13,
   "metadata": {},
   "outputs": [
    {
     "name": "stderr",
     "output_type": "stream",
     "text": [
      "Epoch 1/5: 100%|██████████| 313/313 [00:01<00:00, 229.32it/s]\n"
     ]
    },
    {
     "name": "stdout",
     "output_type": "stream",
     "text": [
      "Epoch 1/5 - Average Loss: 42.5414\n"
     ]
    },
    {
     "name": "stderr",
     "output_type": "stream",
     "text": [
      "Epoch 2/5: 100%|██████████| 313/313 [00:02<00:00, 151.79it/s]\n"
     ]
    },
    {
     "name": "stdout",
     "output_type": "stream",
     "text": [
      "Epoch 2/5 - Average Loss: 5.3313\n"
     ]
    },
    {
     "name": "stderr",
     "output_type": "stream",
     "text": [
      "Epoch 3/5: 100%|██████████| 313/313 [00:03<00:00, 102.39it/s]\n"
     ]
    },
    {
     "name": "stdout",
     "output_type": "stream",
     "text": [
      "Epoch 3/5 - Average Loss: 2.0262\n"
     ]
    },
    {
     "name": "stderr",
     "output_type": "stream",
     "text": [
      "Epoch 4/5: 100%|██████████| 313/313 [00:02<00:00, 154.37it/s]\n"
     ]
    },
    {
     "name": "stdout",
     "output_type": "stream",
     "text": [
      "Epoch 4/5 - Average Loss: 1.5061\n"
     ]
    },
    {
     "name": "stderr",
     "output_type": "stream",
     "text": [
      "Epoch 5/5: 100%|██████████| 313/313 [00:02<00:00, 156.00it/s]"
     ]
    },
    {
     "name": "stdout",
     "output_type": "stream",
     "text": [
      "Epoch 5/5 - Average Loss: 1.1970\n",
      "\n",
      "✅ Training complete!\n"
     ]
    },
    {
     "name": "stderr",
     "output_type": "stream",
     "text": [
      "\n"
     ]
    }
   ],
   "source": [
    "epochs = 5\n",
    "gamma = 0.9\n",
    "\n",
    "training_losses = []\n",
    "\n",
    "for epoch in range(epochs):\n",
    "    total_loss = 0\n",
    "    model.train()\n",
    "    \n",
    "    for xb, yb, loanb, rateb in tqdm(train_loader, desc=f\"Epoch {epoch+1}/{epochs}\"):\n",
    "        # Forward pass\n",
    "        q_values = model(xb)  # [batch, 2]\n",
    "        \n",
    "        # Random exploratory actions during training\n",
    "        action = torch.randint(0, 2, (xb.size(0),))\n",
    "\n",
    "        # Compute rewards\n",
    "        reward = compute_reward(action, yb, loanb.flatten(), rateb.flatten())\n",
    "        reward = reward / 10000.0  # Normalize rewards\n",
    "\n",
    "        # Predicted Q for chosen actions\n",
    "        q_pred = q_values[torch.arange(len(action)), action]\n",
    "\n",
    "        # Target = reward (no next state since it's offline)\n",
    "        q_target = reward\n",
    "\n",
    "        # Compute loss and backpropagate\n",
    "        loss = criterion(q_pred, q_target)\n",
    "        optimizer.zero_grad()\n",
    "        loss.backward()\n",
    "        optimizer.step()\n",
    "\n",
    "        total_loss += loss.item()\n",
    "    \n",
    "    avg_loss = total_loss / len(train_loader)\n",
    "    training_losses.append(avg_loss)\n",
    "    print(f\"Epoch {epoch+1}/{epochs} - Average Loss: {avg_loss:.4f}\")\n",
    "\n",
    "print(\"\\n✅ Training complete!\")"
   ]
  },
  {
   "cell_type": "markdown",
   "metadata": {},
   "source": [
    "## 13. Visualize Training Loss"
   ]
  },
  {
   "cell_type": "code",
   "execution_count": 14,
   "metadata": {},
   "outputs": [
    {
     "data": {
      "image/png": "[encoded data removed]",
      "text/plain": [
       "<Figure size 1000x500 with 1 Axes>"
      ]
     },
     "metadata": {},
     "output_type": "display_data"
    }
   ],
   "source": [
    "import matplotlib.pyplot as plt\n",
    "\n",
    "plt.figure(figsize=(10, 5))\n",
    "plt.plot(range(1, epochs+1), training_losses, marker='o', linewidth=2)\n",
    "plt.xlabel('Epoch')\n",
    "plt.ylabel('Average Loss')\n",
    "plt.title('Training Loss Over Epochs')\n",
    "plt.grid(True, alpha=0.3)\n",
    "plt.tight_layout()\n",
    "plt.show()"
   ]
  },
  {
   "cell_type": "markdown",
   "metadata": {},
   "source": [
    "## 14. Evaluate the Policy (Estimated Policy Value)\n",
    "\n",
    "Evaluate the learned policy on the test set by:\n",
    "1. Computing Q-values for each test sample\n",
    "2. Selecting the best action (argmax)\n",
    "3. Calculating the expected reward"
   ]
  },
  {
   "cell_type": "code",
   "execution_count": 15,
   "metadata": {},
   "outputs": [
    {
     "name": "stdout",
     "output_type": "stream",
     "text": [
      "======================================================================\n",
      "POLICY EVALUATION RESULTS\n",
      "======================================================================\n",
      "\n",
      "✅ Estimated Policy Value (RL Agent): $146,781.77\n",
      "   (Average reward per loan application)\n"
     ]
    }
   ],
   "source": [
    "model.eval()\n",
    "with torch.no_grad():\n",
    "    q_values = model(X_test)\n",
    "    actions = torch.argmax(q_values, dim=1)  # Choose best action for each state\n",
    "\n",
    "    loan_test_tensor = loan_test.reshape(-1)\n",
    "    rate_test_tensor = rate_test.reshape(-1)\n",
    "\n",
    "    rewards = compute_reward(actions, y_test, loan_test_tensor, rate_test_tensor)\n",
    "    \n",
    "    estimated_policy_value = rewards.mean().item()\n",
    "    \n",
    "print(\"=\"*70)\n",
    "print(\"POLICY EVALUATION RESULTS\")\n",
    "print(\"=\"*70)\n",
    "print(f\"\\n✅ Estimated Policy Value (RL Agent): ${estimated_policy_value:,.2f}\")\n",
    "print(f\"   (Average reward per loan application)\")"
   ]
  },
  {
   "cell_type": "markdown",
   "metadata": {},
   "source": [
    "## 15. Analyze Policy Action Distribution"
   ]
  },
  {
   "cell_type": "code",
   "execution_count": 16,
   "metadata": {},
   "outputs": [
    {
     "name": "stdout",
     "output_type": "stream",
     "text": [
      "\n",
      "Policy Action Distribution:\n",
      "  Approve: 82.27% (16,454 applications)\n",
      "  Deny:    17.73% (3,546 applications)\n"
     ]
    }
   ],
   "source": [
    "total = len(actions)\n",
    "approve_ratio = (actions == 1).float().mean().item() * 100\n",
    "deny_ratio = (actions == 0).float().mean().item() * 100\n",
    "\n",
    "print(\"\\nPolicy Action Distribution:\")\n",
    "print(f\"  Approve: {approve_ratio:.2f}% ({int(total * approve_ratio / 100):,} applications)\")\n",
    "print(f\"  Deny:    {deny_ratio:.2f}% ({int(total * deny_ratio / 100):,} applications)\")"
   ]
  },
  {
   "cell_type": "markdown",
   "metadata": {},
   "source": [
    "## 16. Visualize Action Distribution"
   ]
  },
  {
   "cell_type": "code",
   "execution_count": 17,
   "metadata": {},
   "outputs": [
    {
     "data": {
      "image/png": "[encoded data removed]",
      "text/plain": [
       "<Figure size 1400x500 with 2 Axes>"
      ]
     },
     "metadata": {},
     "output_type": "display_data"
    }
   ],
   "source": [
    "fig, axes = plt.subplots(1, 2, figsize=(14, 5))\n",
    "\n",
    "# Pie chart\n",
    "axes[0].pie([approve_ratio, deny_ratio], \n",
    "            labels=['Approve', 'Deny'],\n",
    "            autopct='%1.1f%%',\n",
    "            colors=['#2ecc71', '#e74c3c'],\n",
    "            startangle=90)\n",
    "axes[0].set_title('Policy Action Distribution', fontsize=14, fontweight='bold')\n",
    "\n",
    "# Bar chart\n",
    "actions_np = actions.numpy()\n",
    "axes[1].bar(['Deny', 'Approve'], \n",
    "            [np.sum(actions_np == 0), np.sum(actions_np == 1)],\n",
    "            color=['#e74c3c', '#2ecc71'])\n",
    "axes[1].set_ylabel('Number of Applications')\n",
    "axes[1].set_title('Action Counts', fontsize=14, fontweight='bold')\n",
    "axes[1].grid(True, alpha=0.3, axis='y')\n",
    "\n",
    "plt.tight_layout()\n",
    "plt.show()"
   ]
  },
  {
   "cell_type": "markdown",
   "metadata": {},
   "source": [
    "## 17. Detailed Performance Analysis"
   ]
  },
  {
   "cell_type": "code",
   "execution_count": 18,
   "metadata": {},
   "outputs": [
    {
     "name": "stdout",
     "output_type": "stream",
     "text": [
      "\n",
      "Detailed Performance Breakdown:\n",
      "======================================================================\n",
      "\n",
      "📈 APPROVED LOANS:\n",
      "   - Would be fully paid: 16,120 (80.60%)\n",
      "   - Would default: 334 (1.67%)\n",
      "   - Success rate: 97.97%\n",
      "\n",
      "📉 DENIED LOANS:\n",
      "   - Would have been fully paid: 3 (0.01%)\n",
      "   - Would have defaulted: 3,543 (17.71%)\n",
      "   - Correct denials: 99.92%\n"
     ]
    }
   ],
   "source": [
    "# Analyze performance by action and outcome\n",
    "actions_np = actions.numpy()\n",
    "y_test_np = y_test.numpy()\n",
    "\n",
    "# Approved loans\n",
    "approved_mask = (actions_np == 1)\n",
    "approved_fully_paid = np.sum((actions_np == 1) & (y_test_np == 1))\n",
    "approved_defaulted = np.sum((actions_np == 1) & (y_test_np == 0))\n",
    "\n",
    "# Denied loans\n",
    "denied_mask = (actions_np == 0)\n",
    "denied_would_pay = np.sum((actions_np == 0) & (y_test_np == 1))\n",
    "denied_would_default = np.sum((actions_np == 0) & (y_test_np == 0))\n",
    "\n",
    "print(\"\\nDetailed Performance Breakdown:\")\n",
    "print(\"=\"*70)\n",
    "print(f\"\\n📈 APPROVED LOANS:\")\n",
    "print(f\"   - Would be fully paid: {approved_fully_paid:,} ({approved_fully_paid/total*100:.2f}%)\")\n",
    "print(f\"   - Would default: {approved_defaulted:,} ({approved_defaulted/total*100:.2f}%)\")\n",
    "if np.sum(approved_mask) > 0:\n",
    "    print(f\"   - Success rate: {approved_fully_paid/np.sum(approved_mask)*100:.2f}%\")\n",
    "\n",
    "print(f\"\\n📉 DENIED LOANS:\")\n",
    "print(f\"   - Would have been fully paid: {denied_would_pay:,} ({denied_would_pay/total*100:.2f}%)\")\n",
    "print(f\"   - Would have defaulted: {denied_would_default:,} ({denied_would_default/total*100:.2f}%)\")\n",
    "if np.sum(denied_mask) > 0:\n",
    "    print(f\"   - Correct denials: {denied_would_default/np.sum(denied_mask)*100:.2f}%\")"
   ]
  },
  {
   "cell_type": "markdown",
   "metadata": {},
   "source": [
    "## 18. Calculate Total Profit/Loss"
   ]
  },
  {
   "cell_type": "code",
   "execution_count": 19,
   "metadata": {},
   "outputs": [
    {
     "name": "stdout",
     "output_type": "stream",
     "text": [
      "\n",
      "💰 Financial Summary:\n",
      "======================================================================\n",
      "Total Expected Profit/Loss: $2,935,635,200.00\n",
      "Average Reward per Application: $146,781.77\n",
      "Average Reward per Approval: $178,414.67\n"
     ]
    }
   ],
   "source": [
    "total_reward = rewards.sum().item()\n",
    "avg_reward_per_approval = rewards[actions == 1].mean().item() if torch.sum(actions == 1) > 0 else 0\n",
    "\n",
    "print(\"\\n💰 Financial Summary:\")\n",
    "print(\"=\"*70)\n",
    "print(f\"Total Expected Profit/Loss: ${total_reward:,.2f}\")\n",
    "print(f\"Average Reward per Application: ${estimated_policy_value:,.2f}\")\n",
    "print(f\"Average Reward per Approval: ${avg_reward_per_approval:,.2f}\")"
   ]
  }
 ],
 "metadata": {
  "kernelspec": {
   "display_name": "phi3_env",
   "language": "python",
   "name": "phi3_env"
  },
  "language_info": {
   "codemirror_mode": {
    "name": "ipython",
    "version": 3
   },
   "file_extension": ".py",
   "mimetype": "text/x-python",
   "name": "python",
   "nbconvert_exporter": "python",
   "pygments_lexer": "ipython3",
   "version": "3.10.8"
  }
 },
 "nbformat": 4,
 "nbformat_minor": 4
}
